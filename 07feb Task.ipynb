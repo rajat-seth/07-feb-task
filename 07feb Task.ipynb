{
 "cells": [
  {
   "cell_type": "markdown",
   "id": "efc1eb40-db44-404c-a085-e9a032ef82b3",
   "metadata": {},
   "source": [
    "Q1)"
   ]
  },
  {
   "cell_type": "code",
   "execution_count": null,
   "id": "68232624-e24f-44d4-8bbf-00b87fd4ed12",
   "metadata": {},
   "outputs": [],
   "source": [
    "password=int(input(\"password\"))\n",
    "l,u,p,d=(0,0,0,0)\n",
    "if len(\"password\")>=10:\n",
    "    for i in password:\n",
    "        if i.islower():\n",
    "            l+=2\n",
    "        if i.isdigit():\n",
    "            u+=1\n",
    "        if i.isdigit():\n",
    "            d+=1\n",
    "        if(i==\"@\" or i==\"$\" or i==\"_\"):\n",
    "            p+=1\n",
    "if (l<=1 and u>=1 and p>=1 and l+p+u+d==len(s)):\n",
    "    print (\"valid password\")\n",
    "else:\n",
    "    print(\"invalid password\")"
   ]
  },
  {
   "cell_type": "markdown",
   "id": "8c118e1a-691a-49d3-b06a-857ad2762971",
   "metadata": {},
   "source": [
    "Q2)"
   ]
  },
  {
   "cell_type": "code",
   "execution_count": 41,
   "id": "1c767856-fc4d-468d-939d-7ba2761512c6",
   "metadata": {},
   "outputs": [],
   "source": [
    "#\n",
    "starts_with=lambda x: True if x.startswith('I') else False"
   ]
  },
  {
   "cell_type": "code",
   "execution_count": 37,
   "id": "136ac2b0-877f-4161-ae4f-5f3c8fe6427d",
   "metadata": {},
   "outputs": [
    {
     "data": {
      "text/plain": [
       "False"
      ]
     },
     "execution_count": 37,
     "metadata": {},
     "output_type": "execute_result"
    }
   ],
   "source": [
    "starts_with(\"Sndia\")"
   ]
  },
  {
   "cell_type": "code",
   "execution_count": 28,
   "id": "2321e05d-c353-4d35-a4da-1e46b495176d",
   "metadata": {},
   "outputs": [],
   "source": [
    "#\n",
    "is_digit=lambda x: True if x.isdigit else False"
   ]
  },
  {
   "cell_type": "code",
   "execution_count": 40,
   "id": "19e49f16-3a2b-417a-8d40-249d46d6ae79",
   "metadata": {},
   "outputs": [
    {
     "data": {
      "text/plain": [
       "True"
      ]
     },
     "execution_count": 40,
     "metadata": {},
     "output_type": "execute_result"
    }
   ],
   "source": [
    "is_digit(\"5555\")"
   ]
  },
  {
   "cell_type": "code",
   "execution_count": 42,
   "id": "d69b3b89-a2d9-4820-b80b-08bc8fa3d747",
   "metadata": {},
   "outputs": [],
   "source": [
    "#\n",
    "list1=[(\"mango\",99),(\"orange\",80),(\"grapes\",1000)]\n"
   ]
  },
  {
   "cell_type": "code",
   "execution_count": 49,
   "id": "c270691f-1f13-45f5-85da-c16ee31562ec",
   "metadata": {},
   "outputs": [],
   "source": [
    "sorted_list=sorted(list1,key=lambda x:x[1])"
   ]
  },
  {
   "cell_type": "code",
   "execution_count": 50,
   "id": "70435680-21e7-49c6-86cf-d444cda66ce0",
   "metadata": {},
   "outputs": [
    {
     "name": "stdout",
     "output_type": "stream",
     "text": [
      "[('orange', 80), ('mango', 99), ('grapes', 1000)]\n"
     ]
    }
   ],
   "source": [
    "print(sorted_list)"
   ]
  },
  {
   "cell_type": "code",
   "execution_count": 51,
   "id": "bb42d3ea-eabe-42d2-8376-a2d6ab8f5fc5",
   "metadata": {},
   "outputs": [],
   "source": [
    "#\n",
    "list2=[1,2,3,4,5,6,7,8,9,10]"
   ]
  },
  {
   "cell_type": "code",
   "execution_count": 59,
   "id": "28c55db2-e0a9-43c3-9a36-0747ee4d1123",
   "metadata": {},
   "outputs": [
    {
     "data": {
      "text/plain": [
       "[1, 4, 9, 16, 25, 36, 49, 64, 81, 100]"
      ]
     },
     "execution_count": 59,
     "metadata": {},
     "output_type": "execute_result"
    }
   ],
   "source": [
    "list(map(lambda x: x*x,list2))"
   ]
  },
  {
   "cell_type": "code",
   "execution_count": 60,
   "id": "acd6d720-acad-455f-a076-a1a8d90881f4",
   "metadata": {},
   "outputs": [
    {
     "data": {
      "text/plain": [
       "[1, 8, 27, 64, 125, 216, 343, 512, 729, 1000]"
      ]
     },
     "execution_count": 60,
     "metadata": {},
     "output_type": "execute_result"
    }
   ],
   "source": [
    "#\n",
    "list(map(lambda x: x*x*x , list2))"
   ]
  },
  {
   "cell_type": "code",
   "execution_count": 65,
   "id": "54c5cb2a-4246-4a10-9844-0ffe5f3c5e5f",
   "metadata": {},
   "outputs": [
    {
     "data": {
      "text/plain": [
       "[2, 4, 6, 8, 10, 12, 14, 16, 18]"
      ]
     },
     "execution_count": 65,
     "metadata": {},
     "output_type": "execute_result"
    }
   ],
   "source": [
    "#\n",
    "list(filter(lambda x:x%2==0,range(1,20)))"
   ]
  },
  {
   "cell_type": "code",
   "execution_count": 66,
   "id": "8637a953-3a82-4fbc-8b16-26f7b413f1c0",
   "metadata": {},
   "outputs": [
    {
     "data": {
      "text/plain": [
       "[1, 3, 5, 7, 9]"
      ]
     },
     "execution_count": 66,
     "metadata": {},
     "output_type": "execute_result"
    }
   ],
   "source": [
    "#\n",
    "list3=[1,2,3,4,5,6,7,8,9,10]\n",
    "list(filter(lambda x:x%2!=0 , list3))"
   ]
  },
  {
   "cell_type": "code",
   "execution_count": 68,
   "id": "cb5e44fd-855f-42e1-b99a-96057895618f",
   "metadata": {},
   "outputs": [],
   "source": [
    "#\n",
    "list4=[1,2,3,4,5,6,-1,-2,-3,-4,-5,0]"
   ]
  },
  {
   "cell_type": "code",
   "execution_count": 83,
   "id": "da95f410-c07f-4354-ab02-ffe9a315ae5a",
   "metadata": {},
   "outputs": [],
   "source": [
    "sorted_list_negative=sorted(filter(lambda x: x<0,list4))"
   ]
  },
  {
   "cell_type": "code",
   "execution_count": 84,
   "id": "da5a82a4-221c-4912-9fbf-7cd1cc3a8f7f",
   "metadata": {},
   "outputs": [
    {
     "data": {
      "text/plain": [
       "[-5, -4, -3, -2, -1]"
      ]
     },
     "execution_count": 84,
     "metadata": {},
     "output_type": "execute_result"
    }
   ],
   "source": [
    "sorted_list_negative"
   ]
  },
  {
   "cell_type": "code",
   "execution_count": 79,
   "id": "ec737362-3777-4814-88eb-d4d444622358",
   "metadata": {},
   "outputs": [],
   "source": [
    "sorted_list_positive=sorted(filter(lambda x:x>=0,list4))"
   ]
  },
  {
   "cell_type": "code",
   "execution_count": 80,
   "id": "79b7c07e-5ba8-43db-837c-63c5ad0dc22c",
   "metadata": {},
   "outputs": [
    {
     "data": {
      "text/plain": [
       "[0, 1, 2, 3, 4, 5, 6]"
      ]
     },
     "execution_count": 80,
     "metadata": {},
     "output_type": "execute_result"
    }
   ],
   "source": [
    "sorted_list_positive"
   ]
  },
  {
   "cell_type": "code",
   "execution_count": null,
   "id": "d84a67ca-0a1f-41d5-932f-d2da43bc1ed1",
   "metadata": {},
   "outputs": [],
   "source": []
  }
 ],
 "metadata": {
  "kernelspec": {
   "display_name": "Python 3 (ipykernel)",
   "language": "python",
   "name": "python3"
  },
  "language_info": {
   "codemirror_mode": {
    "name": "ipython",
    "version": 3
   },
   "file_extension": ".py",
   "mimetype": "text/x-python",
   "name": "python",
   "nbconvert_exporter": "python",
   "pygments_lexer": "ipython3",
   "version": "3.10.8"
  }
 },
 "nbformat": 4,
 "nbformat_minor": 5
}
